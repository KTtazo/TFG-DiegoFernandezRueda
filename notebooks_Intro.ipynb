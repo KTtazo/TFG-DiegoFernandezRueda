{
  "metadata": {
    "kernelspec": {
      "name": "python",
      "display_name": "Python (Pyodide)",
      "language": "python"
    },
    "language_info": {
      "codemirror_mode": {
        "name": "python",
        "version": 3
      },
      "file_extension": ".py",
      "mimetype": "text/x-python",
      "name": "python",
      "nbconvert_exporter": "python",
      "pygments_lexer": "ipython3",
      "version": "3.8"
    }
  },
  "nbformat_minor": 5,
  "nbformat": 4,
  "cells": [
    {
      "cell_type": "markdown",
      "source": "# Introduction to the JupyterLab and Jupyter Notebooks\n\nThis is a short introduction to two of the flagship tools created by [the Jupyter Community](https://jupyter.org).\n\n> **⚠️Experimental!⚠️**: This is an experimental interface provided by the [JupyterLite project](https://jupyterlite.readthedocs.io/en/latest/). It embeds an entire JupyterLab interface, with many popular packages for scientific computing, in your browser. There may be minor differences in behavior between JupyterLite and the JupyterLab you install locally. You may also encounter some bugs or unexpected behavior. To report any issues, or to get involved with the JupyterLite project, see [the JupyterLite repository](https://github.com/jupyterlite/jupyterlite/issues?q=is%3Aissue+is%3Aopen+sort%3Aupdated-desc).\n\n## JupyterLab 🧪\n\n**JupyterLab** is a next-generation web-based user interface for Project Jupyter. It enables you to work with documents and activities such as Jupyter notebooks, text editors, terminals, and custom components in a flexible, integrated, and extensible manner. It is the interface that you're looking at right now.\n\n**For an overview of the JupyterLab interface**, see the **JupyterLab Welcome Tour** on this page, by going to `Help -> Welcome Tour` and following the prompts.\n\n> **See Also**: For a more in-depth tour of JupyterLab with a full environment that runs in the cloud, see [the JupyterLab introduction on Binder](https://mybinder.org/v2/gh/jupyterlab/jupyterlab-demo/HEAD?urlpath=lab/tree/demo).\n\n## Jupyter Notebooks 📓\n\n**Jupyter Notebooks** are a community standard for communicating and performing interactive computing. They are a document that blends computations, outputs, explanatory text, mathematics, images, and rich media representations of objects.\n\nJupyterLab is one interface used to create and interact with Jupyter Notebooks.\n\n**For an overview of Jupyter Notebooks**, see the **JupyterLab Welcome Tour** on this page, by going to `Help -> Notebook Tour` and following the prompts.\n\n> **See Also**: For a more in-depth tour of Jupyter Notebooks and the Classic Jupyter Notebook interface, see [the Jupyter Notebook IPython tutorial on Binder](https://mybinder.org/v2/gh/ipython/ipython-in-depth/HEAD?urlpath=tree/binder/Index.ipynb).\n\n## An example: visualizing data in the notebook ✨\n\nBelow is an example of a code cell. We'll visualize some simple data using two popular packages in Python. We'll use [NumPy](https://numpy.org/) to create some random data, and [Matplotlib](https://matplotlib.org) to visualize it.\n\nNote how the code and the results of running the code are bundled together.",
      "metadata": {},
      "id": "a35eeb9f-df70-4ab1-a243-2d2025888eb0"
    },
    {
      "cell_type": "code",
      "source": "from sklearn.linear_model import LinearRegression\nimport numpy as np",
      "metadata": {
        "trusted": true
      },
      "execution_count": 1,
      "outputs": [],
      "id": "e56b215e-d4e2-4242-919f-dbde4d3b05d2"
    },
    {
      "cell_type": "code",
      "source": "x = np.array([5, 15, 25, 35, 45, 55]).reshape((-1, 1))\ny = np.array([5, 20, 14, 32, 22, 38])\nprint(x)\nprint(y)",
      "metadata": {
        "trusted": true
      },
      "execution_count": 2,
      "outputs": [
        {
          "name": "stdout",
          "text": "[[ 5]\n [15]\n [25]\n [35]\n [45]\n [55]]\n[ 5 20 14 32 22 38]\n",
          "output_type": "stream"
        }
      ],
      "id": "807beaed-7017-4751-bddc-6a74d1acb5c4"
    },
    {
      "cell_type": "code",
      "source": "model = LinearRegression()\n#model.fit(x, y)\nmodelo=model.fit(x,y)\n#print(modelo)",
      "metadata": {
        "trusted": true
      },
      "execution_count": 6,
      "outputs": [],
      "id": "38502d76-b152-4277-8a3c-f2844c4172c4"
    },
    {
      "cell_type": "code",
      "source": "r_sq = modelo.score(x, y)\nprint(r_sq)#coefficent of determination\nprint(f\"intercept: {modelo.intercept_}\")\nprint(f\"slope: {modelo.coef_}\")",
      "metadata": {
        "trusted": true
      },
      "execution_count": 10,
      "outputs": [
        {
          "name": "stdout",
          "text": "0.7158756137479542\nintercept: 5.633333333333329\nslope: [0.54]\n",
          "output_type": "stream"
        }
      ],
      "id": "3fcf035a-cc31-4584-9744-0bc3a23a7532"
    },
    {
      "cell_type": "code",
      "source": "new_model = LinearRegression().fit(x, y.reshape((-1, 1)))\nprint(x)\nprint(y.reshape(-1,1))\nprint(f\"intercept: {new_model.intercept_}\")\nprint(f\"slope: {new_model.coef_}\")\ny_pred = model.predict(x)\nprint(f\"predicted response:\\n{y_pred}\")",
      "metadata": {
        "trusted": true
      },
      "execution_count": 14,
      "outputs": [
        {
          "name": "stdout",
          "text": "[[ 5]\n [15]\n [25]\n [35]\n [45]\n [55]]\n[[ 5]\n [20]\n [14]\n [32]\n [22]\n [38]]\nintercept: [5.63333333]\nslope: [[0.54]]\npredicted response:\n[ 8.33333333 13.73333333 19.13333333 24.53333333 29.93333333 35.33333333]\n",
          "output_type": "stream"
        }
      ],
      "id": "e1cceedd-1311-4825-9ff7-edeef550e23a"
    },
    {
      "cell_type": "code",
      "source": "y_pred = model.intercept_ + model.coef_ * x\nprint(f\"predicted response:\\n{y_pred}\")",
      "metadata": {
        "trusted": true
      },
      "execution_count": 15,
      "outputs": [
        {
          "name": "stdout",
          "text": "predicted response:\n[[ 8.33333333]\n [13.73333333]\n [19.13333333]\n [24.53333333]\n [29.93333333]\n [35.33333333]]\n",
          "output_type": "stream"
        }
      ],
      "id": "67a12e0f-c50e-48aa-9041-41fdef288be9"
    },
    {
      "cell_type": "code",
      "source": "x_new = np.arange(5).reshape((-1, 1))\nprint(x_new)",
      "metadata": {
        "trusted": true
      },
      "execution_count": 16,
      "outputs": [
        {
          "name": "stdout",
          "text": "[[0]\n [1]\n [2]\n [3]\n [4]]\n",
          "output_type": "stream"
        }
      ],
      "id": "a918b3b3-64de-42af-8f88-102c9dd791eb"
    },
    {
      "cell_type": "code",
      "source": "",
      "metadata": {},
      "execution_count": null,
      "outputs": [],
      "id": "b6816964-3515-4e9c-bb88-6f61ab32a017"
    }
  ]
}