{
 "cells": [
  {
   "cell_type": "code",
   "execution_count": 1,
   "metadata": {},
   "outputs": [
    {
     "name": "stdout",
     "output_type": "stream",
     "text": [
      "Requirement already satisfied: sklearn in c:\\python311\\lib\\site-packages (0.0.post1)\n",
      "Note: you may need to restart the kernel to use updated packages.\n"
     ]
    }
   ],
   "source": [
    "pip install -U sklearn"
   ]
  },
  {
   "cell_type": "code",
   "execution_count": 2,
   "metadata": {},
   "outputs": [
    {
     "ename": "FileNotFoundError",
     "evalue": "[Errno 2] No such file or directory: 'breast-cancer-wisconsin.data'",
     "output_type": "error",
     "traceback": [
      "\u001b[1;31m---------------------------------------------------------------------------\u001b[0m",
      "\u001b[1;31mFileNotFoundError\u001b[0m                         Traceback (most recent call last)",
      "Cell \u001b[1;32mIn[2], line 4\u001b[0m\n\u001b[0;32m      1\u001b[0m \u001b[39mimport\u001b[39;00m \u001b[39mpandas\u001b[39;00m \u001b[39mas\u001b[39;00m \u001b[39mpd\u001b[39;00m\n\u001b[0;32m      2\u001b[0m \u001b[39mimport\u001b[39;00m \u001b[39mnumpy\u001b[39;00m \u001b[39mas\u001b[39;00m \u001b[39mnp\u001b[39;00m\n\u001b[1;32m----> 4\u001b[0m data \u001b[39m=\u001b[39m pd\u001b[39m.\u001b[39;49mread_csv(\u001b[39m'\u001b[39;49m\u001b[39mbreast-cancer-wisconsin.data\u001b[39;49m\u001b[39m'\u001b[39;49m)\n\u001b[0;32m      5\u001b[0m data\u001b[39m.\u001b[39mcolumns \u001b[39m=\u001b[39m [\u001b[39m'\u001b[39m\u001b[39mid\u001b[39m\u001b[39m'\u001b[39m, \u001b[39m'\u001b[39m\u001b[39mclump_thickness\u001b[39m\u001b[39m'\u001b[39m, \u001b[39m'\u001b[39m\u001b[39muniform_cell_size\u001b[39m\u001b[39m'\u001b[39m, \u001b[39m'\u001b[39m\u001b[39muniform_cell_shape\u001b[39m\u001b[39m'\u001b[39m, \u001b[39m'\u001b[39m\u001b[39mmarginal_adhesion\u001b[39m\u001b[39m'\u001b[39m, \u001b[39m'\u001b[39m\u001b[39msingle_epithelial_size\u001b[39m\u001b[39m'\u001b[39m, \u001b[39m'\u001b[39m\u001b[39mbare_nuclei\u001b[39m\u001b[39m'\u001b[39m, \u001b[39m'\u001b[39m\u001b[39mbland_chromatin\u001b[39m\u001b[39m'\u001b[39m, \u001b[39m'\u001b[39m\u001b[39mnormal_nucleoli\u001b[39m\u001b[39m'\u001b[39m, \u001b[39m'\u001b[39m\u001b[39mmitoses\u001b[39m\u001b[39m'\u001b[39m, \u001b[39m'\u001b[39m\u001b[39mclass\u001b[39m\u001b[39m'\u001b[39m]\n\u001b[0;32m      6\u001b[0m data[\u001b[39m'\u001b[39m\u001b[39mbare_nuclei\u001b[39m\u001b[39m'\u001b[39m] \u001b[39m=\u001b[39m pd\u001b[39m.\u001b[39mto_numeric(data[\u001b[39m'\u001b[39m\u001b[39mbare_nuclei\u001b[39m\u001b[39m'\u001b[39m], errors\u001b[39m=\u001b[39m\u001b[39m'\u001b[39m\u001b[39mcoerce\u001b[39m\u001b[39m'\u001b[39m)\n",
      "File \u001b[1;32mc:\\Python311\\Lib\\site-packages\\pandas\\util\\_decorators.py:211\u001b[0m, in \u001b[0;36mdeprecate_kwarg.<locals>._deprecate_kwarg.<locals>.wrapper\u001b[1;34m(*args, **kwargs)\u001b[0m\n\u001b[0;32m    209\u001b[0m     \u001b[39melse\u001b[39;00m:\n\u001b[0;32m    210\u001b[0m         kwargs[new_arg_name] \u001b[39m=\u001b[39m new_arg_value\n\u001b[1;32m--> 211\u001b[0m \u001b[39mreturn\u001b[39;00m func(\u001b[39m*\u001b[39;49margs, \u001b[39m*\u001b[39;49m\u001b[39m*\u001b[39;49mkwargs)\n",
      "File \u001b[1;32mc:\\Python311\\Lib\\site-packages\\pandas\\util\\_decorators.py:331\u001b[0m, in \u001b[0;36mdeprecate_nonkeyword_arguments.<locals>.decorate.<locals>.wrapper\u001b[1;34m(*args, **kwargs)\u001b[0m\n\u001b[0;32m    325\u001b[0m \u001b[39mif\u001b[39;00m \u001b[39mlen\u001b[39m(args) \u001b[39m>\u001b[39m num_allow_args:\n\u001b[0;32m    326\u001b[0m     warnings\u001b[39m.\u001b[39mwarn(\n\u001b[0;32m    327\u001b[0m         msg\u001b[39m.\u001b[39mformat(arguments\u001b[39m=\u001b[39m_format_argument_list(allow_args)),\n\u001b[0;32m    328\u001b[0m         \u001b[39mFutureWarning\u001b[39;00m,\n\u001b[0;32m    329\u001b[0m         stacklevel\u001b[39m=\u001b[39mfind_stack_level(),\n\u001b[0;32m    330\u001b[0m     )\n\u001b[1;32m--> 331\u001b[0m \u001b[39mreturn\u001b[39;00m func(\u001b[39m*\u001b[39;49margs, \u001b[39m*\u001b[39;49m\u001b[39m*\u001b[39;49mkwargs)\n",
      "File \u001b[1;32mc:\\Python311\\Lib\\site-packages\\pandas\\io\\parsers\\readers.py:950\u001b[0m, in \u001b[0;36mread_csv\u001b[1;34m(filepath_or_buffer, sep, delimiter, header, names, index_col, usecols, squeeze, prefix, mangle_dupe_cols, dtype, engine, converters, true_values, false_values, skipinitialspace, skiprows, skipfooter, nrows, na_values, keep_default_na, na_filter, verbose, skip_blank_lines, parse_dates, infer_datetime_format, keep_date_col, date_parser, dayfirst, cache_dates, iterator, chunksize, compression, thousands, decimal, lineterminator, quotechar, quoting, doublequote, escapechar, comment, encoding, encoding_errors, dialect, error_bad_lines, warn_bad_lines, on_bad_lines, delim_whitespace, low_memory, memory_map, float_precision, storage_options)\u001b[0m\n\u001b[0;32m    935\u001b[0m kwds_defaults \u001b[39m=\u001b[39m _refine_defaults_read(\n\u001b[0;32m    936\u001b[0m     dialect,\n\u001b[0;32m    937\u001b[0m     delimiter,\n\u001b[1;32m   (...)\u001b[0m\n\u001b[0;32m    946\u001b[0m     defaults\u001b[39m=\u001b[39m{\u001b[39m\"\u001b[39m\u001b[39mdelimiter\u001b[39m\u001b[39m\"\u001b[39m: \u001b[39m\"\u001b[39m\u001b[39m,\u001b[39m\u001b[39m\"\u001b[39m},\n\u001b[0;32m    947\u001b[0m )\n\u001b[0;32m    948\u001b[0m kwds\u001b[39m.\u001b[39mupdate(kwds_defaults)\n\u001b[1;32m--> 950\u001b[0m \u001b[39mreturn\u001b[39;00m _read(filepath_or_buffer, kwds)\n",
      "File \u001b[1;32mc:\\Python311\\Lib\\site-packages\\pandas\\io\\parsers\\readers.py:605\u001b[0m, in \u001b[0;36m_read\u001b[1;34m(filepath_or_buffer, kwds)\u001b[0m\n\u001b[0;32m    602\u001b[0m _validate_names(kwds\u001b[39m.\u001b[39mget(\u001b[39m\"\u001b[39m\u001b[39mnames\u001b[39m\u001b[39m\"\u001b[39m, \u001b[39mNone\u001b[39;00m))\n\u001b[0;32m    604\u001b[0m \u001b[39m# Create the parser.\u001b[39;00m\n\u001b[1;32m--> 605\u001b[0m parser \u001b[39m=\u001b[39m TextFileReader(filepath_or_buffer, \u001b[39m*\u001b[39;49m\u001b[39m*\u001b[39;49mkwds)\n\u001b[0;32m    607\u001b[0m \u001b[39mif\u001b[39;00m chunksize \u001b[39mor\u001b[39;00m iterator:\n\u001b[0;32m    608\u001b[0m     \u001b[39mreturn\u001b[39;00m parser\n",
      "File \u001b[1;32mc:\\Python311\\Lib\\site-packages\\pandas\\io\\parsers\\readers.py:1442\u001b[0m, in \u001b[0;36mTextFileReader.__init__\u001b[1;34m(self, f, engine, **kwds)\u001b[0m\n\u001b[0;32m   1439\u001b[0m     \u001b[39mself\u001b[39m\u001b[39m.\u001b[39moptions[\u001b[39m\"\u001b[39m\u001b[39mhas_index_names\u001b[39m\u001b[39m\"\u001b[39m] \u001b[39m=\u001b[39m kwds[\u001b[39m\"\u001b[39m\u001b[39mhas_index_names\u001b[39m\u001b[39m\"\u001b[39m]\n\u001b[0;32m   1441\u001b[0m \u001b[39mself\u001b[39m\u001b[39m.\u001b[39mhandles: IOHandles \u001b[39m|\u001b[39m \u001b[39mNone\u001b[39;00m \u001b[39m=\u001b[39m \u001b[39mNone\u001b[39;00m\n\u001b[1;32m-> 1442\u001b[0m \u001b[39mself\u001b[39m\u001b[39m.\u001b[39m_engine \u001b[39m=\u001b[39m \u001b[39mself\u001b[39;49m\u001b[39m.\u001b[39;49m_make_engine(f, \u001b[39mself\u001b[39;49m\u001b[39m.\u001b[39;49mengine)\n",
      "File \u001b[1;32mc:\\Python311\\Lib\\site-packages\\pandas\\io\\parsers\\readers.py:1735\u001b[0m, in \u001b[0;36mTextFileReader._make_engine\u001b[1;34m(self, f, engine)\u001b[0m\n\u001b[0;32m   1733\u001b[0m     \u001b[39mif\u001b[39;00m \u001b[39m\"\u001b[39m\u001b[39mb\u001b[39m\u001b[39m\"\u001b[39m \u001b[39mnot\u001b[39;00m \u001b[39min\u001b[39;00m mode:\n\u001b[0;32m   1734\u001b[0m         mode \u001b[39m+\u001b[39m\u001b[39m=\u001b[39m \u001b[39m\"\u001b[39m\u001b[39mb\u001b[39m\u001b[39m\"\u001b[39m\n\u001b[1;32m-> 1735\u001b[0m \u001b[39mself\u001b[39m\u001b[39m.\u001b[39mhandles \u001b[39m=\u001b[39m get_handle(\n\u001b[0;32m   1736\u001b[0m     f,\n\u001b[0;32m   1737\u001b[0m     mode,\n\u001b[0;32m   1738\u001b[0m     encoding\u001b[39m=\u001b[39;49m\u001b[39mself\u001b[39;49m\u001b[39m.\u001b[39;49moptions\u001b[39m.\u001b[39;49mget(\u001b[39m\"\u001b[39;49m\u001b[39mencoding\u001b[39;49m\u001b[39m\"\u001b[39;49m, \u001b[39mNone\u001b[39;49;00m),\n\u001b[0;32m   1739\u001b[0m     compression\u001b[39m=\u001b[39;49m\u001b[39mself\u001b[39;49m\u001b[39m.\u001b[39;49moptions\u001b[39m.\u001b[39;49mget(\u001b[39m\"\u001b[39;49m\u001b[39mcompression\u001b[39;49m\u001b[39m\"\u001b[39;49m, \u001b[39mNone\u001b[39;49;00m),\n\u001b[0;32m   1740\u001b[0m     memory_map\u001b[39m=\u001b[39;49m\u001b[39mself\u001b[39;49m\u001b[39m.\u001b[39;49moptions\u001b[39m.\u001b[39;49mget(\u001b[39m\"\u001b[39;49m\u001b[39mmemory_map\u001b[39;49m\u001b[39m\"\u001b[39;49m, \u001b[39mFalse\u001b[39;49;00m),\n\u001b[0;32m   1741\u001b[0m     is_text\u001b[39m=\u001b[39;49mis_text,\n\u001b[0;32m   1742\u001b[0m     errors\u001b[39m=\u001b[39;49m\u001b[39mself\u001b[39;49m\u001b[39m.\u001b[39;49moptions\u001b[39m.\u001b[39;49mget(\u001b[39m\"\u001b[39;49m\u001b[39mencoding_errors\u001b[39;49m\u001b[39m\"\u001b[39;49m, \u001b[39m\"\u001b[39;49m\u001b[39mstrict\u001b[39;49m\u001b[39m\"\u001b[39;49m),\n\u001b[0;32m   1743\u001b[0m     storage_options\u001b[39m=\u001b[39;49m\u001b[39mself\u001b[39;49m\u001b[39m.\u001b[39;49moptions\u001b[39m.\u001b[39;49mget(\u001b[39m\"\u001b[39;49m\u001b[39mstorage_options\u001b[39;49m\u001b[39m\"\u001b[39;49m, \u001b[39mNone\u001b[39;49;00m),\n\u001b[0;32m   1744\u001b[0m )\n\u001b[0;32m   1745\u001b[0m \u001b[39massert\u001b[39;00m \u001b[39mself\u001b[39m\u001b[39m.\u001b[39mhandles \u001b[39mis\u001b[39;00m \u001b[39mnot\u001b[39;00m \u001b[39mNone\u001b[39;00m\n\u001b[0;32m   1746\u001b[0m f \u001b[39m=\u001b[39m \u001b[39mself\u001b[39m\u001b[39m.\u001b[39mhandles\u001b[39m.\u001b[39mhandle\n",
      "File \u001b[1;32mc:\\Python311\\Lib\\site-packages\\pandas\\io\\common.py:856\u001b[0m, in \u001b[0;36mget_handle\u001b[1;34m(path_or_buf, mode, encoding, compression, memory_map, is_text, errors, storage_options)\u001b[0m\n\u001b[0;32m    851\u001b[0m \u001b[39melif\u001b[39;00m \u001b[39misinstance\u001b[39m(handle, \u001b[39mstr\u001b[39m):\n\u001b[0;32m    852\u001b[0m     \u001b[39m# Check whether the filename is to be opened in binary mode.\u001b[39;00m\n\u001b[0;32m    853\u001b[0m     \u001b[39m# Binary mode does not support 'encoding' and 'newline'.\u001b[39;00m\n\u001b[0;32m    854\u001b[0m     \u001b[39mif\u001b[39;00m ioargs\u001b[39m.\u001b[39mencoding \u001b[39mand\u001b[39;00m \u001b[39m\"\u001b[39m\u001b[39mb\u001b[39m\u001b[39m\"\u001b[39m \u001b[39mnot\u001b[39;00m \u001b[39min\u001b[39;00m ioargs\u001b[39m.\u001b[39mmode:\n\u001b[0;32m    855\u001b[0m         \u001b[39m# Encoding\u001b[39;00m\n\u001b[1;32m--> 856\u001b[0m         handle \u001b[39m=\u001b[39m \u001b[39mopen\u001b[39;49m(\n\u001b[0;32m    857\u001b[0m             handle,\n\u001b[0;32m    858\u001b[0m             ioargs\u001b[39m.\u001b[39;49mmode,\n\u001b[0;32m    859\u001b[0m             encoding\u001b[39m=\u001b[39;49mioargs\u001b[39m.\u001b[39;49mencoding,\n\u001b[0;32m    860\u001b[0m             errors\u001b[39m=\u001b[39;49merrors,\n\u001b[0;32m    861\u001b[0m             newline\u001b[39m=\u001b[39;49m\u001b[39m\"\u001b[39;49m\u001b[39m\"\u001b[39;49m,\n\u001b[0;32m    862\u001b[0m         )\n\u001b[0;32m    863\u001b[0m     \u001b[39melse\u001b[39;00m:\n\u001b[0;32m    864\u001b[0m         \u001b[39m# Binary mode\u001b[39;00m\n\u001b[0;32m    865\u001b[0m         handle \u001b[39m=\u001b[39m \u001b[39mopen\u001b[39m(handle, ioargs\u001b[39m.\u001b[39mmode)\n",
      "\u001b[1;31mFileNotFoundError\u001b[0m: [Errno 2] No such file or directory: 'breast-cancer-wisconsin.data'"
     ]
    }
   ],
   "source": [
    "import pandas as pd\n",
    "import numpy as np\n",
    "\n",
    "data = pd.read_csv('breast-cancer-wisconsin.data')\n",
    "data.columns = ['id', 'clump_thickness', 'uniform_cell_size', 'uniform_cell_shape', 'marginal_adhesion', 'single_epithelial_size', 'bare_nuclei', 'bland_chromatin', 'normal_nucleoli', 'mitoses', 'class']\n",
    "data['bare_nuclei'] = pd.to_numeric(data['bare_nuclei'], errors='coerce')\n",
    "data = data.replace(np.nan, 0, regex=True)\n",
    "data['bare_nuclei'] = data['bare_nuclei'].astype(int)\n",
    "\n",
    "print(data)"
   ]
  },
  {
   "cell_type": "code",
   "execution_count": 43,
   "metadata": {},
   "outputs": [
    {
     "name": "stdout",
     "output_type": "stream",
     "text": [
      "     clump_thickness  uniform_cell_size  uniform_cell_shape  \\\n",
      "71                 1                  3                   3   \n",
      "392                1                  1                   1   \n",
      "406                1                  1                   1   \n",
      "313                1                  1                   1   \n",
      "301               10                 10                  10   \n",
      "..               ...                ...                 ...   \n",
      "359                6                 10                  10   \n",
      "192                1                  1                   1   \n",
      "629                6                  2                   3   \n",
      "559                5                  1                   1   \n",
      "684                1                  1                   1   \n",
      "\n",
      "     marginal_adhesion  single_epithelial_size  bare_nuclei  bland_chromatin  \\\n",
      "71                   2                       2            1                7   \n",
      "392                  1                       1            1                1   \n",
      "406                  1                       2            1                2   \n",
      "313                  1                       1            1                2   \n",
      "301                  7                       9           10                7   \n",
      "..                 ...                     ...          ...              ...   \n",
      "359                 10                      10           10                8   \n",
      "192                  1                       2            1                3   \n",
      "629                  1                       2            1                1   \n",
      "559                  1                       2            1                3   \n",
      "684                  1                       2            1                1   \n",
      "\n",
      "     normal_nucleoli  mitoses  \n",
      "71                 2        1  \n",
      "392                1        1  \n",
      "406                1        1  \n",
      "313                1        1  \n",
      "301               10       10  \n",
      "..               ...      ...  \n",
      "359               10       10  \n",
      "192                1        1  \n",
      "629                1        1  \n",
      "559                1        1  \n",
      "684                1        1  \n",
      "\n",
      "[488 rows x 9 columns]\n",
      "............\n",
      "     clump_thickness  uniform_cell_size  uniform_cell_shape  \\\n",
      "603                5                  3                   2   \n",
      "619                3                  1                   1   \n",
      "452                4                  5                   5   \n",
      "85                 3                  3                   6   \n",
      "416                1                  1                   1   \n",
      "..               ...                ...                 ...   \n",
      "15                 4                  1                   1   \n",
      "236                9                  8                   8   \n",
      "245                8                 10                  10   \n",
      "6                  2                  1                   2   \n",
      "443                5                  1                   1   \n",
      "\n",
      "     marginal_adhesion  single_epithelial_size  bare_nuclei  bland_chromatin  \\\n",
      "603                  8                       5           10                8   \n",
      "619                  1                       2            1                2   \n",
      "452                  8                       6           10               10   \n",
      "85                   4                       5            8                4   \n",
      "416                  1                       2            1                2   \n",
      "..                 ...                     ...          ...              ...   \n",
      "15                   1                       2            1                2   \n",
      "236                  5                       6            2                4   \n",
      "245                  8                       5           10                7   \n",
      "6                    1                       2            1                3   \n",
      "443                  6                       3            1                2   \n",
      "\n",
      "     normal_nucleoli  mitoses  \n",
      "603                1        2  \n",
      "619                1        1  \n",
      "452                7        1  \n",
      "85                 4        1  \n",
      "416                1        1  \n",
      "..               ...      ...  \n",
      "15                 1        1  \n",
      "236               10        4  \n",
      "245                8        1  \n",
      "6                  1        1  \n",
      "443                1        1  \n",
      "\n",
      "[210 rows x 9 columns]\n",
      "............\n",
      "71     2\n",
      "392    2\n",
      "406    2\n",
      "313    2\n",
      "301    4\n",
      "      ..\n",
      "359    4\n",
      "192    2\n",
      "629    2\n",
      "559    2\n",
      "684    2\n",
      "Name: class, Length: 488, dtype: int64\n",
      "............\n",
      "603    4\n",
      "619    2\n",
      "452    4\n",
      "85     4\n",
      "416    2\n",
      "      ..\n",
      "15     2\n",
      "236    4\n",
      "245    4\n",
      "6      2\n",
      "443    2\n",
      "Name: class, Length: 210, dtype: int64\n"
     ]
    }
   ],
   "source": [
    "#dividimos \n",
    "from sklearn.model_selection import train_test_split\n",
    "\n",
    "\n",
    "\n",
    "X_train, X_test, y_train, y_test = train_test_split(data[['clump_thickness', 'uniform_cell_size', 'uniform_cell_shape', 'marginal_adhesion', 'single_epithelial_size', 'bare_nuclei', 'bland_chromatin', 'normal_nucleoli', 'mitoses']], data['class'], test_size=0.3, random_state=0)\n",
    "\n",
    "\n",
    "print(X_train)\n",
    "print('............')\n",
    "print(X_test)\n",
    "print('............')\n",
    "print(y_train)\n",
    "print('............')\n",
    "print(y_test)\n"
   ]
  },
  {
   "cell_type": "code",
   "execution_count": 42,
   "metadata": {},
   "outputs": [
    {
     "name": "stdout",
     "output_type": "stream",
     "text": [
      "prediccion de y\n",
      "[4 2 4 4 2 2 2 2 2 2 2 2 2 2 2 2 2 2 4 4 2 4 4 4 2 4 4 4 2 2 4 2 2 2 2 2 2\n",
      " 4 2 2 2 2 2 4 4 4 2 4 2 4 2 2 2 4 2 2 2 2 2 4 4 4 4 4 2 4 4 2 4 4 2 2 4 2\n",
      " 2 2 4 2 4 2 4 2 2 2 2 2 4 2 2 4 4 4 2 4 2 4 2 2 2 2 4 4 4 4 2 2 4 2 2 2 2\n",
      " 4 2 2 4 2 4 2 2 4 2 2 4 4 4 2 2 4 2 2 4 4 2 4 2 2 2 2 4 4 2 2 4 4 2 2 2 4\n",
      " 2 2 2 4 2 4 2 2 2 2 4 4 4 2 2 2 4 2 2 2 4 2 2 2 2 4 4 2 4 2 2 2 2 2 4 2 4\n",
      " 2 2 4 4 2 2 4 2 2 2 2 4 4 2 2 2 2 2 2 2 2 4 4 2 2]\n",
      "matriz de confusion\n",
      "[[129   4]\n",
      " [  3  74]]\n",
      "reporte de clasificacion\n",
      "              precision    recall  f1-score   support\n",
      "\n",
      "           2       0.98      0.97      0.97       133\n",
      "           4       0.95      0.96      0.95        77\n",
      "\n",
      "    accuracy                           0.97       210\n",
      "   macro avg       0.96      0.97      0.96       210\n",
      "weighted avg       0.97      0.97      0.97       210\n",
      "\n"
     ]
    }
   ],
   "source": [
    "#modelo de vecinos próximos\n",
    "from sklearn.neighbors import KNeighborsClassifier\n",
    "from sklearn import preprocessing\n",
    "\n",
    "\n",
    "knn_model = KNeighborsClassifier(n_neighbors=3)\n",
    "knn_model.fit(X_train, y_train)\n",
    "y_pred_knn = knn_model.predict(X_test)\n",
    "print('prediccion de y en modelo de vecinos próximos') \n",
    "print(y_pred_knn)\n",
    "\n",
    "from sklearn.metrics import classification_report, confusion_matrix\n",
    "\n",
    "print('matriz de confusion')\n",
    "print(confusion_matrix(y_test, y_pred_knn))\n",
    "\n",
    "print('reporte de clasificacion')\n",
    "print(classification_report(y_test, y_pred_knn))"
   ]
  },
  {
   "cell_type": "code",
   "execution_count": 44,
   "metadata": {},
   "outputs": [
    {
     "name": "stdout",
     "output_type": "stream",
     "text": [
      "[4 2 4 4 2 2 4 2 2 2 2 2 2 2 2 2 2 2 4 4 2 4 4 4 2 4 4 4 4 2 4 2 2 2 2 2 2\n",
      " 4 2 2 2 2 2 4 4 4 2 4 2 4 2 2 2 4 2 2 2 2 2 4 4 2 4 4 2 4 4 2 4 4 2 2 4 2\n",
      " 2 2 4 2 4 2 4 2 2 2 2 2 4 2 2 4 4 4 2 4 2 4 2 2 2 2 4 4 4 4 2 2 4 2 2 2 2\n",
      " 4 2 2 2 2 4 2 2 4 2 2 4 4 4 2 2 4 2 2 4 4 2 4 2 2 2 2 4 4 2 2 4 4 2 2 2 4\n",
      " 2 2 2 4 2 4 2 2 2 2 4 4 4 2 2 2 4 2 2 2 4 2 2 2 2 4 4 2 4 2 2 2 2 2 4 2 4\n",
      " 2 2 4 4 2 2 4 2 2 2 2 4 4 2 2 2 2 2 2 2 2 4 4 2 2]\n",
      "[[128   5]\n",
      " [  4  73]]\n",
      "              precision    recall  f1-score   support\n",
      "\n",
      "           2       0.97      0.96      0.97       133\n",
      "           4       0.94      0.95      0.94        77\n",
      "\n",
      "    accuracy                           0.96       210\n",
      "   macro avg       0.95      0.96      0.95       210\n",
      "weighted avg       0.96      0.96      0.96       210\n",
      "\n"
     ]
    }
   ],
   "source": [
    "#modelo lineal de regesión\n",
    "from sklearn.linear_model import LogisticRegression\n",
    "\n",
    "regresion = LogisticRegression()\n",
    "regresion.fit(X_train, y_train)\n",
    "y_pred_lineal = regresion.predict(X_test)\n",
    "print('prediccion de y en modelo lineal de regresión')\n",
    "print(y_pred_lineal)\n",
    "\n",
    "from sklearn.metrics import classification_report, confusion_matrix\n",
    "\n",
    "print('matriz de confusion')\n",
    "print(confusion_matrix(y_test, y_pred_lineal))\n",
    "\n",
    "print('reporte de clasificacion')\n",
    "print(classification_report(y_test, y_pred_lineal))"
   ]
  },
  {
   "cell_type": "code",
   "execution_count": 46,
   "metadata": {},
   "outputs": [
    {
     "name": "stdout",
     "output_type": "stream",
     "text": [
      "[4 2 4 4 2 2 4 2 2 2 2 2 2 2 2 2 2 2 4 4 2 4 4 4 2 4 4 4 4 2 4 2 2 2 2 2 2\n",
      " 4 2 2 2 2 2 4 4 4 2 4 2 4 2 2 2 4 2 2 2 2 2 4 4 4 4 4 2 4 4 2 4 4 2 2 4 2\n",
      " 2 2 4 2 4 2 4 2 2 2 2 2 4 2 2 4 4 4 2 4 2 4 2 2 2 2 2 4 4 4 2 2 4 2 2 2 4\n",
      " 4 2 4 4 2 4 2 2 4 2 2 4 4 4 2 2 2 2 2 4 4 2 4 2 2 2 2 4 4 2 2 4 4 2 2 2 4\n",
      " 2 2 2 4 2 4 4 2 2 2 4 4 4 2 2 2 4 2 2 2 4 2 2 2 2 4 4 2 4 2 2 2 2 2 4 2 4\n",
      " 2 2 4 4 2 2 4 2 2 2 2 4 4 2 2 2 4 2 2 2 2 4 4 2 2]\n",
      "[[125   8]\n",
      " [  3  74]]\n",
      "              precision    recall  f1-score   support\n",
      "\n",
      "           2       0.98      0.94      0.96       133\n",
      "           4       0.90      0.96      0.93        77\n",
      "\n",
      "    accuracy                           0.95       210\n",
      "   macro avg       0.94      0.95      0.94       210\n",
      "weighted avg       0.95      0.95      0.95       210\n",
      "\n"
     ]
    }
   ],
   "source": [
    "#modelo de arbol de decision\n",
    "from sklearn.tree import DecisionTreeClassifier\n",
    "\n",
    "arbolDecision = DecisionTreeClassifier()\n",
    "arbolDecision.fit(X_train, y_train)\n",
    "y_pred_arbol = arbolDecision.predict(X_test)\n",
    "print('prediccion de y en modelo de arbol de decision')\n",
    "print(y_pred_arbol)\n",
    "\n",
    "from sklearn.metrics import classification_report, confusion_matrix\n",
    "\n",
    "print('matriz de confusion')\n",
    "print(confusion_matrix(y_test, y_pred_arbol))\n",
    "\n",
    "print('reporte de clasificacion')\n",
    "print(classification_report(y_test, y_pred_arbol))"
   ]
  },
  {
   "cell_type": "code",
   "execution_count": 48,
   "metadata": {},
   "outputs": [
    {
     "name": "stdout",
     "output_type": "stream",
     "text": [
      "prediccion de y en modelo de red neuronal artificial multicapa\n",
      "[4 2 4 4 2 2 4 2 2 2 2 2 2 2 2 2 2 2 4 4 2 4 4 4 2 4 4 4 4 2 4 2 2 2 2 2 2\n",
      " 4 2 2 2 2 2 4 4 4 2 4 2 4 2 2 2 4 2 2 2 2 2 4 4 4 4 4 2 4 4 2 4 4 2 2 4 2\n",
      " 2 2 4 2 4 2 4 2 2 2 2 2 4 2 2 4 4 4 2 4 2 4 2 2 2 2 4 4 4 4 2 2 4 4 2 2 4\n",
      " 4 2 2 4 2 4 2 2 4 2 2 4 4 4 2 2 4 2 2 4 4 2 4 2 2 2 2 4 4 4 2 4 4 2 2 2 4\n",
      " 2 2 2 4 2 4 2 2 2 2 4 4 4 2 2 2 4 2 2 2 4 2 2 2 2 4 4 2 4 2 2 2 2 2 4 2 4\n",
      " 2 2 4 4 2 2 4 2 2 2 2 4 4 2 2 2 4 2 2 2 2 4 4 2 2]\n",
      "matriz de confusion\n",
      "[[126   7]\n",
      " [  0  77]]\n",
      "reporte de clasificacion\n",
      "              precision    recall  f1-score   support\n",
      "\n",
      "           2       1.00      0.95      0.97       133\n",
      "           4       0.92      1.00      0.96        77\n",
      "\n",
      "    accuracy                           0.97       210\n",
      "   macro avg       0.96      0.97      0.96       210\n",
      "weighted avg       0.97      0.97      0.97       210\n",
      "\n"
     ]
    }
   ],
   "source": [
    "#modelo de red neuronal artificial multicapa\n",
    "from sklearn.neural_network import MLPClassifier\n",
    "rna = MLPClassifier(hidden_layer_sizes=(10, 10, 10), max_iter=1000)\n",
    "rna.fit(X_train, y_train)\n",
    "y_pred_rna = rna.predict(X_test)\n",
    "print('prediccion de y en modelo de red neuronal artificial multicapa')\n",
    "print(y_pred_rna)\n",
    "\n",
    "from sklearn.metrics import classification_report, confusion_matrix\n",
    "\n",
    "print('matriz de confusion')\n",
    "print(confusion_matrix(y_test, y_pred_rna))\n",
    "\n",
    "print('reporte de clasificacion')\n",
    "print(classification_report(y_test, y_pred_rna))"
   ]
  }
 ],
 "metadata": {
  "kernelspec": {
   "display_name": "Python 3.11.0 64-bit",
   "language": "python",
   "name": "python3"
  },
  "language_info": {
   "codemirror_mode": {
    "name": "ipython",
    "version": 3
   },
   "file_extension": ".py",
   "mimetype": "text/x-python",
   "name": "python",
   "nbconvert_exporter": "python",
   "pygments_lexer": "ipython3",
   "version": "3.11.0"
  },
  "orig_nbformat": 4,
  "vscode": {
   "interpreter": {
    "hash": "c261aea317cc0286b3b3261fbba9abdec21eaa57589985bb7a274bf54d6cc0a7"
   }
  }
 },
 "nbformat": 4,
 "nbformat_minor": 2
}
